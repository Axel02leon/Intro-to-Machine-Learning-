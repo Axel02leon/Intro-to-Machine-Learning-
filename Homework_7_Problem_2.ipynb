{
  "nbformat": 4,
  "nbformat_minor": 0,
  "metadata": {
    "colab": {
      "provenance": [],
      "gpuType": "T4",
      "include_colab_link": true
    },
    "kernelspec": {
      "name": "python3",
      "display_name": "Python 3"
    },
    "language_info": {
      "name": "python"
    },
    "accelerator": "GPU"
  },
  "cells": [
    {
      "cell_type": "markdown",
      "metadata": {
        "id": "view-in-github",
        "colab_type": "text"
      },
      "source": [
        "<a href=\"https://colab.research.google.com/github/Axel02leon/Intro-to-Machine-Learning-/blob/main/Homework_7_Problem_2.ipynb\" target=\"_parent\"><img src=\"https://colab.research.google.com/assets/colab-badge.svg\" alt=\"Open In Colab\"/></a>"
      ]
    },
    {
      "cell_type": "code",
      "execution_count": null,
      "metadata": {
        "id": "MJhQWOg1av0F"
      },
      "outputs": [],
      "source": [
        "import torch\n",
        "import torch.nn as nn\n",
        "import torch.optim as optim\n",
        "import pandas as pd\n",
        "torch.cuda.is_available()\n",
        "from sklearn.preprocessing import StandardScaler\n",
        "from sklearn.model_selection import train_test_split\n",
        "from torch.utils.data import DataLoader, TensorDataset\n",
        "from torchvision import datasets, transforms\n",
        "from torch.utils.data import DataLoader\n",
        "import time\n",
        "from torchvision import datasets\n",
        "import datetime\n"
      ]
    },
    {
      "cell_type": "code",
      "source": [
        "# Data Preparation\n",
        "transform = transforms.Compose([\n",
        "    transforms.RandomHorizontalFlip(),\n",
        "    transforms.RandomCrop(32, padding=4),\n",
        "    transforms.ToTensor(),\n",
        "    transforms.Normalize((0.5, 0.5, 0.5), (0.5, 0.5, 0.5))\n",
        "])"
      ],
      "metadata": {
        "id": "omNATYGla6Te"
      },
      "execution_count": null,
      "outputs": []
    },
    {
      "cell_type": "code",
      "source": [
        "train_dataset = datasets.CIFAR10(root='./data', train=True, transform=transform, download=True)\n",
        "test_dataset = datasets.CIFAR10(root='./data', train=False, transform=transform, download=True)\n",
        "\n",
        "train_loader = DataLoader(train_dataset, batch_size=256, shuffle=True)\n",
        "test_loader = DataLoader(test_dataset, batch_size=256, shuffle=False)"
      ],
      "metadata": {
        "colab": {
          "base_uri": "https://localhost:8080/"
        },
        "id": "j7QhnsA_a8Nm",
        "outputId": "2095e11b-321b-4d2d-cbf0-0b3586616262"
      },
      "execution_count": null,
      "outputs": [
        {
          "output_type": "stream",
          "name": "stdout",
          "text": [
            "Files already downloaded and verified\n",
            "Files already downloaded and verified\n"
          ]
        }
      ]
    },
    {
      "cell_type": "code",
      "source": [
        "class ResidualBlock(nn.Module):\n",
        "    def __init__(self, in_channels, out_channels, stride=1, downsample=None):\n",
        "        super(ResidualBlock, self).__init__()\n",
        "        self.conv1 = nn.Conv2d(in_channels, out_channels, kernel_size=3, stride=stride, padding=1, bias=False)\n",
        "        self.bn1 = nn.BatchNorm2d(out_channels)\n",
        "        self.relu = nn.ReLU(inplace=True)\n",
        "        self.conv2 = nn.Conv2d(out_channels, out_channels, kernel_size=3, stride=1, padding=1, bias=False)\n",
        "        self.bn2 = nn.BatchNorm2d(out_channels)\n",
        "        self.downsample = downsample\n",
        "\n",
        "    def forward(self, x):\n",
        "        identity = x\n",
        "        if self.downsample is not None:\n",
        "            identity = self.downsample(x)\n",
        "\n",
        "        out = self.conv1(x)\n",
        "        out = self.bn1(out)\n",
        "        out = self.relu(out)\n",
        "        out = self.conv2(out)\n",
        "        out = self.bn2(out)\n",
        "        out += identity\n",
        "        out = self.relu(out)\n",
        "        return out"
      ],
      "metadata": {
        "id": "A7JROS-Ia9-4"
      },
      "execution_count": null,
      "outputs": []
    },
    {
      "cell_type": "code",
      "source": [
        "class ResNet10(nn.Module):\n",
        "    def __init__(self, block, layers, num_classes=10):\n",
        "        super(ResNet10, self).__init__()\n",
        "        self.in_channels = 64\n",
        "        self.conv1 = nn.Conv2d(3, 64, kernel_size=3, stride=1, padding=1)\n",
        "        self.bn1 = nn.BatchNorm2d(64)\n",
        "        self.relu = nn.ReLU(inplace=True)\n",
        "        self.layer1 = self._make_layer(block, 64, layers[0])\n",
        "        self.layer2 = self._make_layer(block, 128, layers[1], stride=2)\n",
        "        self.layer3 = self._make_layer(block, 256, layers[2], stride=2)\n",
        "        self.layer4 = self._make_layer(block, 512, layers[3], stride=2)\n",
        "        self.avg_pool = nn.AdaptiveAvgPool2d((1, 1))\n",
        "        self.fc = nn.Linear(512, num_classes)\n",
        "\n",
        "    def _make_layer(self, block, out_channels, blocks, stride=1):\n",
        "        downsample = None\n",
        "        if stride != 1 or self.in_channels != out_channels:\n",
        "            downsample = nn.Sequential(\n",
        "                nn.Conv2d(self.in_channels, out_channels, kernel_size=1, stride=stride),\n",
        "                nn.BatchNorm2d(out_channels),\n",
        "            )\n",
        "        layers = []\n",
        "        layers.append(block(self.in_channels, out_channels, stride, downsample))\n",
        "        self.in_channels = out_channels\n",
        "        for _ in range(1, blocks):\n",
        "            layers.append(block(out_channels, out_channels))\n",
        "        return nn.Sequential(*layers)\n",
        "\n",
        "    def forward(self, x):\n",
        "     out = self.conv1(x)\n",
        "     out = self.bn1(out)  # Apply BatchNorm to the output of conv1\n",
        "     out = self.relu(out)  # Apply ReLU activation\n",
        "     out = self.layer1(out)\n",
        "     out = self.layer2(out)\n",
        "     out = self.layer3(out)\n",
        "     out = self.layer4(out)\n",
        "     out = self.avg_pool(out)\n",
        "     out = torch.flatten(out, 1)  # Flatten for the fully connected layer\n",
        "     out = self.fc(out)\n",
        "     return out\n"
      ],
      "metadata": {
        "id": "Ivs1KPuha_3M"
      },
      "execution_count": null,
      "outputs": []
    },
    {
      "cell_type": "code",
      "source": [
        "\n",
        "# Check if CUDA is available\n",
        "if torch.cuda.is_available():\n",
        "    print(\"CUDA is available. Using GPU.\")\n",
        "    device = torch.device(\"cuda\")\n",
        "else:\n",
        "    print(\"CUDA is not available. Using CPU.\")\n",
        "    device = torch.device(\"cpu\")"
      ],
      "metadata": {
        "colab": {
          "base_uri": "https://localhost:8080/"
        },
        "id": "I6PNKWMBbBpN",
        "outputId": "ff353424-57cc-459a-93be-3ff657302c02"
      },
      "execution_count": null,
      "outputs": [
        {
          "output_type": "stream",
          "name": "stdout",
          "text": [
            "CUDA is available. Using GPU.\n"
          ]
        }
      ]
    },
    {
      "cell_type": "code",
      "source": [
        "from torch.amp import GradScaler, autocast  # Updated import\n",
        "def resnet10(num_classes=10):\n",
        "    return ResNet10(ResidualBlock, [2, 2, 2, 2], num_classes=num_classes)\n",
        "\n",
        "def train_model(model, criterion, optimizer, train_loader, val_loader, n_epochs=200):\n",
        "    model.to(device)\n",
        "    train_losses = []\n",
        "    start_time = time.time()\n",
        "\n",
        "    # Initialize GradScaler for mixed-precision training\n",
        "    scaler = GradScaler(\"cuda\")\n",
        "\n",
        "    for epoch in range(1, n_epochs + 1):\n",
        "        model.train()\n",
        "        running_loss = 0.0\n",
        "\n",
        "        for inputs, targets in train_loader:\n",
        "            inputs, targets = inputs.to(device), targets.to(device)\n",
        "\n",
        "            optimizer.zero_grad()\n",
        "\n",
        "            # Use autocast for mixed-precision\n",
        "            with autocast(\"cuda\"):\n",
        "                outputs = model(inputs)\n",
        "                loss = criterion(outputs, targets)\n",
        "\n",
        "            # Scale the loss for mixed-precision, backward pass, and optimizer step\n",
        "            scaler.scale(loss).backward()\n",
        "            scaler.step(optimizer)\n",
        "            scaler.update()\n",
        "\n",
        "            running_loss += loss.item()\n",
        "\n",
        "        avg_train_loss = running_loss / len(train_loader)\n",
        "        train_losses.append(avg_train_loss)\n",
        "\n",
        "        if epoch % 10 == 0 or epoch == 1 or epoch == n_epochs:\n",
        "            print(f\"Epoch {epoch}/{n_epochs}, Training Loss: {avg_train_loss:.4f}\")\n",
        "\n",
        "    end_time = time.time()\n",
        "    training_time = end_time - start_time\n",
        "    print(f\"Total Training Time: {training_time:.2f} seconds\")\n",
        "    return train_losses, training_time\n",
        "\n"
      ],
      "metadata": {
        "id": "Zm4fMIA2bC7x"
      },
      "execution_count": null,
      "outputs": []
    },
    {
      "cell_type": "code",
      "source": [
        "# Evaluation Function\n",
        "def evaluate_model(model, loader):\n",
        "    model.eval()\n",
        "    correct = 0\n",
        "    total = 0\n",
        "    with torch.no_grad():\n",
        "        for inputs, targets in loader:\n",
        "            inputs, targets = inputs.to(device), targets.to(device)\n",
        "            outputs = model(inputs)\n",
        "            _, predictions = torch.max(outputs, 1)\n",
        "            correct += (predictions == targets).sum().item()\n",
        "            total += targets.size(0)\n",
        "\n",
        "    accuracy = correct / total * 100\n",
        "    print(f\"Test Accuracy: {accuracy:.2f}%\")\n",
        "    return accuracy\n",
        "\n",
        "# Initialize Model, Loss, and Optimizer\n",
        "device = torch.device(\"cuda\" if torch.cuda.is_available() else \"cpu\")\n",
        "model = resnet10(num_classes=10)\n",
        "criterion = nn.CrossEntropyLoss()\n",
        "optimizer = optim.SGD(model.parameters(), lr=0.01, momentum=0.9, weight_decay=5e-4)\n",
        "\n",
        "# Train the Model\n",
        "print(\"Training ResNet-10...\")\n",
        "train_losses, training_time = train_model(model, criterion, optimizer, train_loader, test_loader, n_epochs=200)\n",
        "\n",
        "# Evaluate the Model\n",
        "print(\"\\nEvaluating ResNet-10...\")\n",
        "test_accuracy = evaluate_model(model, test_loader)"
      ],
      "metadata": {
        "colab": {
          "base_uri": "https://localhost:8080/"
        },
        "id": "dSvYmMvPbEv7",
        "outputId": "496a2dff-b0c1-4283-f9d1-bb25cc8991ae"
      },
      "execution_count": null,
      "outputs": [
        {
          "output_type": "stream",
          "name": "stdout",
          "text": [
            "Training ResNet-10...\n",
            "Epoch 1/200, Training Loss: 1.4565\n",
            "Epoch 10/200, Training Loss: 0.3379\n",
            "Epoch 20/200, Training Loss: 0.1842\n",
            "Epoch 30/200, Training Loss: 0.1127\n",
            "Epoch 40/200, Training Loss: 0.0729\n",
            "Epoch 50/200, Training Loss: 0.0532\n",
            "Epoch 60/200, Training Loss: 0.0425\n",
            "Epoch 70/200, Training Loss: 0.0306\n",
            "Epoch 80/200, Training Loss: 0.0274\n",
            "Epoch 90/200, Training Loss: 0.0261\n",
            "Epoch 100/200, Training Loss: 0.0270\n",
            "Epoch 110/200, Training Loss: 0.0216\n",
            "Epoch 120/200, Training Loss: 0.0221\n",
            "Epoch 130/200, Training Loss: 0.0321\n",
            "Epoch 140/200, Training Loss: 0.0291\n",
            "Epoch 150/200, Training Loss: 0.0297\n",
            "Epoch 160/200, Training Loss: 0.0320\n",
            "Epoch 170/200, Training Loss: 0.0267\n",
            "Epoch 180/200, Training Loss: 0.0252\n",
            "Epoch 190/200, Training Loss: 0.0293\n",
            "Epoch 200/200, Training Loss: 0.0248\n",
            "Total Training Time: 6936.12 seconds\n",
            "\n",
            "Evaluating ResNet-10...\n",
            "Test Accuracy: 91.32%\n"
          ]
        }
      ]
    }
  ]
}